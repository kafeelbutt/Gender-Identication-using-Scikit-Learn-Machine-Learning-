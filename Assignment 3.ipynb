{
 "cells": [
  {
   "cell_type": "markdown",
   "metadata": {},
   "source": [
    "# <center> Kafeel Ahmad Butt <br><br> (SP16-BCS-187) <center>"
   ]
  },
  {
   "cell_type": "markdown",
   "metadata": {},
   "source": [
    "#  Gender Identification Problem "
   ]
  },
  {
   "cell_type": "markdown",
   "metadata": {},
   "source": [
    "In this tutorial we will go through all the phases of Machine Learning keeping in view the example of Gender Identification."
   ]
  },
  {
   "cell_type": "markdown",
   "metadata": {},
   "source": [
    "# Step 1: Importing the Libraries \n"
   ]
  },
  {
   "cell_type": "code",
   "execution_count": 1,
   "metadata": {},
   "outputs": [],
   "source": [
    "import re\n",
    "import string\n",
    "import scipy\n",
    "import pickle\n",
    "import numpy as np\n",
    "import pandas as pd\n",
    "from sklearn.feature_extraction.text import *\n",
    "from sklearn.preprocessing import LabelEncoder\n",
    "from sklearn.linear_model import LogisticRegression\n",
    "from sklearn.naive_bayes import BernoulliNB\n",
    "from sklearn.ensemble import RandomForestClassifier\n",
    "from sklearn.svm import LinearSVC\n",
    "from sklearn.metrics import accuracy_score\n",
    "from prettytable import PrettyTable\n",
    "from astropy.table import Table, Column\n",
    "%matplotlib inline\n",
    "import warnings\n",
    "warnings.filterwarnings('ignore')\n"
   ]
  },
  {
   "cell_type": "markdown",
   "metadata": {},
   "source": [
    "# Step 2 : Read, Understand and Pre Process Train/ Test Data\n",
    "\n",
    "## Step 2.1 : Read the Data"
   ]
  },
  {
   "cell_type": "code",
   "execution_count": 2,
   "metadata": {},
   "outputs": [],
   "source": [
    "data1 = pd.read_csv('train.csv')\n",
    "data2 = pd.read_csv('test.csv')\n"
   ]
  },
  {
   "cell_type": "markdown",
   "metadata": {},
   "source": [
    "## Step 2.2 : Understand the Data"
   ]
  },
  {
   "cell_type": "markdown",
   "metadata": {},
   "source": [
    "### Train Data Set"
   ]
  },
  {
   "cell_type": "code",
   "execution_count": 3,
   "metadata": {},
   "outputs": [
    {
     "name": "stdout",
     "output_type": "stream",
     "text": [
      "Train Dataset:\n",
      "\n"
     ]
    },
    {
     "data": {
      "text/html": [
       "<div>\n",
       "<style scoped>\n",
       "    .dataframe tbody tr th:only-of-type {\n",
       "        vertical-align: middle;\n",
       "    }\n",
       "\n",
       "    .dataframe tbody tr th {\n",
       "        vertical-align: top;\n",
       "    }\n",
       "\n",
       "    .dataframe thead th {\n",
       "        text-align: right;\n",
       "    }\n",
       "</style>\n",
       "<table border=\"1\" class=\"dataframe\">\n",
       "  <thead>\n",
       "    <tr style=\"text-align: right;\">\n",
       "      <th></th>\n",
       "      <th>height</th>\n",
       "      <th>weight</th>\n",
       "      <th>hair</th>\n",
       "      <th>beard</th>\n",
       "      <th>scarf</th>\n",
       "      <th>gender</th>\n",
       "    </tr>\n",
       "  </thead>\n",
       "  <tbody>\n",
       "    <tr>\n",
       "      <th>0</th>\n",
       "      <td>180.3000</td>\n",
       "      <td>196</td>\n",
       "      <td>Bald</td>\n",
       "      <td>Yes</td>\n",
       "      <td>No</td>\n",
       "      <td>Male</td>\n",
       "    </tr>\n",
       "    <tr>\n",
       "      <th>1</th>\n",
       "      <td>170.0000</td>\n",
       "      <td>120</td>\n",
       "      <td>Long</td>\n",
       "      <td>No</td>\n",
       "      <td>No</td>\n",
       "      <td>Female</td>\n",
       "    </tr>\n",
       "    <tr>\n",
       "      <th>2</th>\n",
       "      <td>178.5000</td>\n",
       "      <td>200</td>\n",
       "      <td>Short</td>\n",
       "      <td>No</td>\n",
       "      <td>No</td>\n",
       "      <td>Male</td>\n",
       "    </tr>\n",
       "    <tr>\n",
       "      <th>3</th>\n",
       "      <td>163.4000</td>\n",
       "      <td>110</td>\n",
       "      <td>Medium</td>\n",
       "      <td>No</td>\n",
       "      <td>Yes</td>\n",
       "      <td>Female</td>\n",
       "    </tr>\n",
       "    <tr>\n",
       "      <th>4</th>\n",
       "      <td>175.2222</td>\n",
       "      <td>220</td>\n",
       "      <td>Short</td>\n",
       "      <td>Yes</td>\n",
       "      <td>No</td>\n",
       "      <td>Male</td>\n",
       "    </tr>\n",
       "    <tr>\n",
       "      <th>5</th>\n",
       "      <td>165.0000</td>\n",
       "      <td>150</td>\n",
       "      <td>Medium</td>\n",
       "      <td>No</td>\n",
       "      <td>Yes</td>\n",
       "      <td>Female</td>\n",
       "    </tr>\n",
       "  </tbody>\n",
       "</table>\n",
       "</div>"
      ],
      "text/plain": [
       "     height  weight    hair beard scarf  gender\n",
       "0  180.3000     196    Bald   Yes    No    Male\n",
       "1  170.0000     120    Long    No    No  Female\n",
       "2  178.5000     200   Short    No    No    Male\n",
       "3  163.4000     110  Medium    No   Yes  Female\n",
       "4  175.2222     220   Short   Yes    No    Male\n",
       "5  165.0000     150  Medium    No   Yes  Female"
      ]
     },
     "execution_count": 3,
     "metadata": {},
     "output_type": "execute_result"
    }
   ],
   "source": [
    "print('Train Dataset:\\n')\n",
    "Matrix = pd.DataFrame(data1)\n",
    "Matrix"
   ]
  },
  {
   "cell_type": "code",
   "execution_count": 4,
   "metadata": {},
   "outputs": [
    {
     "name": "stdout",
     "output_type": "stream",
     "text": [
      "\n",
      "Train Dataset Columns:\n",
      "\n",
      "Index(['height', 'weight', 'hair', 'beard', 'scarf', 'gender'], dtype='object')\n",
      "\n",
      "Number of instances in Train set\n",
      "\n",
      "Train instances: 6\n"
     ]
    }
   ],
   "source": [
    "print('\\nTrain Dataset Columns:\\n')\n",
    "print( data1.columns)\n",
    "print('\\nNumber of instances in Train set')\n",
    "print('\\nTrain instances: ' + str(data1.index.max() + 1))"
   ]
  },
  {
   "cell_type": "markdown",
   "metadata": {},
   "source": [
    "### Test DataSet"
   ]
  },
  {
   "cell_type": "code",
   "execution_count": 5,
   "metadata": {},
   "outputs": [
    {
     "name": "stdout",
     "output_type": "stream",
     "text": [
      "Test Dataset:\n",
      "\n"
     ]
    },
    {
     "data": {
      "text/html": [
       "<div>\n",
       "<style scoped>\n",
       "    .dataframe tbody tr th:only-of-type {\n",
       "        vertical-align: middle;\n",
       "    }\n",
       "\n",
       "    .dataframe tbody tr th {\n",
       "        vertical-align: top;\n",
       "    }\n",
       "\n",
       "    .dataframe thead th {\n",
       "        text-align: right;\n",
       "    }\n",
       "</style>\n",
       "<table border=\"1\" class=\"dataframe\">\n",
       "  <thead>\n",
       "    <tr style=\"text-align: right;\">\n",
       "      <th></th>\n",
       "      <th>height</th>\n",
       "      <th>weight</th>\n",
       "      <th>hair</th>\n",
       "      <th>beard</th>\n",
       "      <th>scarf</th>\n",
       "      <th>gender</th>\n",
       "    </tr>\n",
       "  </thead>\n",
       "  <tbody>\n",
       "    <tr>\n",
       "      <th>0</th>\n",
       "      <td>179.1</td>\n",
       "      <td>185</td>\n",
       "      <td>Long</td>\n",
       "      <td>Yes</td>\n",
       "      <td>No</td>\n",
       "      <td>Male</td>\n",
       "    </tr>\n",
       "    <tr>\n",
       "      <th>1</th>\n",
       "      <td>160.5</td>\n",
       "      <td>130</td>\n",
       "      <td>Short</td>\n",
       "      <td>No</td>\n",
       "      <td>No</td>\n",
       "      <td>Female</td>\n",
       "    </tr>\n",
       "    <tr>\n",
       "      <th>2</th>\n",
       "      <td>177.8</td>\n",
       "      <td>160</td>\n",
       "      <td>Bald</td>\n",
       "      <td>No</td>\n",
       "      <td>No</td>\n",
       "      <td>Male</td>\n",
       "    </tr>\n",
       "    <tr>\n",
       "      <th>3</th>\n",
       "      <td>161.1</td>\n",
       "      <td>100</td>\n",
       "      <td>Medium</td>\n",
       "      <td>No</td>\n",
       "      <td>No</td>\n",
       "      <td>Female</td>\n",
       "    </tr>\n",
       "  </tbody>\n",
       "</table>\n",
       "</div>"
      ],
      "text/plain": [
       "   height  weight    hair beard scarf  gender\n",
       "0   179.1     185    Long   Yes    No    Male\n",
       "1   160.5     130   Short    No    No  Female\n",
       "2   177.8     160    Bald    No    No    Male\n",
       "3   161.1     100  Medium    No    No  Female"
      ]
     },
     "execution_count": 5,
     "metadata": {},
     "output_type": "execute_result"
    }
   ],
   "source": [
    "print('Test Dataset:\\n')\n",
    "Matrix = pd.DataFrame(data2)\n",
    "Matrix"
   ]
  },
  {
   "cell_type": "code",
   "execution_count": 6,
   "metadata": {},
   "outputs": [
    {
     "name": "stdout",
     "output_type": "stream",
     "text": [
      "\n",
      "Test Dataset Columns:\n",
      "\n",
      "Index(['height', 'weight', 'hair', 'beard', 'scarf', 'gender'], dtype='object')\n",
      "\n",
      "Number of instances in Test set\n",
      "\n",
      "Test instances: 4\n"
     ]
    }
   ],
   "source": [
    "print('\\nTest Dataset Columns:\\n')\n",
    "print( data2.columns)\n",
    "print('\\nNumber of instances in Test set')\n",
    "print('\\nTest instances: ' + str(data2.index.max() + 1))"
   ]
  },
  {
   "cell_type": "code",
   "execution_count": 7,
   "metadata": {},
   "outputs": [
    {
     "name": "stdout",
     "output_type": "stream",
     "text": [
      "Train Instances having label 'Male':\n",
      "\n",
      "     height  weight   hair beard scarf gender\n",
      "0  180.3000     196   Bald   Yes    No   Male\n",
      "2  178.5000     200  Short    No    No   Male\n",
      "4  175.2222     220  Short   Yes    No   Male\n"
     ]
    }
   ],
   "source": [
    "print('Train Instances having label \\'Male\\':\\n')\n",
    "\n",
    "print(data1.loc[data1['gender'] == 'Male'])\n"
   ]
  },
  {
   "cell_type": "code",
   "execution_count": 8,
   "metadata": {},
   "outputs": [
    {
     "name": "stdout",
     "output_type": "stream",
     "text": [
      "Train Instances having label 'Female':\n",
      "\n",
      "   height  weight    hair beard scarf  gender\n",
      "1   170.0     120    Long    No    No  Female\n",
      "3   163.4     110  Medium    No   Yes  Female\n",
      "5   165.0     150  Medium    No   Yes  Female\n"
     ]
    }
   ],
   "source": [
    "print('Train Instances having label \\'Female\\':\\n')\n",
    "\n",
    "print(data1.loc[data1['gender'] == 'Female'])"
   ]
  },
  {
   "cell_type": "code",
   "execution_count": 9,
   "metadata": {},
   "outputs": [
    {
     "name": "stdout",
     "output_type": "stream",
     "text": [
      "Test Instances having label 'Male':\n",
      "\n",
      "   height  weight  hair beard scarf gender\n",
      "0   179.1     185  Long   Yes    No   Male\n",
      "2   177.8     160  Bald    No    No   Male\n"
     ]
    }
   ],
   "source": [
    "print('Test Instances having label \\'Male\\':\\n')\n",
    "\n",
    "print(data2.loc[data2['gender'] == 'Male'])"
   ]
  },
  {
   "cell_type": "code",
   "execution_count": 10,
   "metadata": {},
   "outputs": [
    {
     "name": "stdout",
     "output_type": "stream",
     "text": [
      "Test Instances having label 'Female':\n",
      "\n",
      "   height  weight    hair beard scarf  gender\n",
      "1   160.5     130   Short    No    No  Female\n",
      "3   161.1     100  Medium    No    No  Female\n"
     ]
    }
   ],
   "source": [
    "print('Test Instances having label \\'Female\\':\\n')\n",
    "\n",
    "print(data2.loc[data2['gender'] == 'Female'])"
   ]
  },
  {
   "cell_type": "markdown",
   "metadata": {},
   "source": [
    "### Graphs Are Easy !!"
   ]
  },
  {
   "cell_type": "code",
   "execution_count": 11,
   "metadata": {},
   "outputs": [
    {
     "name": "stdout",
     "output_type": "stream",
     "text": [
      "Total number of 'Males' and 'Females' in Train Dataset: \n"
     ]
    },
    {
     "data": {
      "text/plain": [
       "<matplotlib.axes._subplots.AxesSubplot at 0x23b206a2fd0>"
      ]
     },
     "execution_count": 11,
     "metadata": {},
     "output_type": "execute_result"
    },
    {
     "data": {
      "image/png": "[encoded data removed]",
      "text/plain": [
       "<Figure size 432x288 with 1 Axes>"
      ]
     },
     "metadata": {},
     "output_type": "display_data"
    }
   ],
   "source": [
    "print('Total number of \\'Males\\' and \\'Females\\' in Train Dataset: ')\n",
    "data1['gender'].value_counts().plot(kind='bar')"
   ]
  },
  {
   "cell_type": "code",
   "execution_count": 12,
   "metadata": {},
   "outputs": [
    {
     "name": "stdout",
     "output_type": "stream",
     "text": [
      "Total number of 'Males' and 'Females' in Test Dataset: \n"
     ]
    },
    {
     "data": {
      "text/plain": [
       "<matplotlib.axes._subplots.AxesSubplot at 0x23b2078a9b0>"
      ]
     },
     "execution_count": 12,
     "metadata": {},
     "output_type": "execute_result"
    },
    {
     "data": {
      "image/png": "[encoded data removed]",
      "text/plain": [
       "<Figure size 432x288 with 1 Axes>"
      ]
     },
     "metadata": {},
     "output_type": "display_data"
    }
   ],
   "source": [
    "print('Total number of \\'Males\\' and \\'Females\\' in Test Dataset: ')\n",
    "data2['gender'].value_counts().plot(kind='bar')"
   ]
  },
  {
   "cell_type": "code",
   "execution_count": 13,
   "metadata": {},
   "outputs": [
    {
     "name": "stdout",
     "output_type": "stream",
     "text": [
      "Number of people having various hair length in Train Dataset: \n"
     ]
    },
    {
     "data": {
      "text/plain": [
       "<matplotlib.axes._subplots.AxesSubplot at 0x23b20a1a7b8>"
      ]
     },
     "execution_count": 13,
     "metadata": {},
     "output_type": "execute_result"
    },
    {
     "data": {
      "image/png": "[encoded data removed]",
      "text/plain": [
       "<Figure size 432x288 with 1 Axes>"
      ]
     },
     "metadata": {},
     "output_type": "display_data"
    }
   ],
   "source": [
    "print('Number of people having various hair length in Train Dataset: ')\n",
    "data1['hair'].value_counts().plot(kind='bar')"
   ]
  },
  {
   "cell_type": "code",
   "execution_count": 14,
   "metadata": {},
   "outputs": [
    {
     "name": "stdout",
     "output_type": "stream",
     "text": [
      "Number of people having various hair length in Test Dataset: \n"
     ]
    },
    {
     "data": {
      "text/plain": [
       "<matplotlib.axes._subplots.AxesSubplot at 0x23b20ae52e8>"
      ]
     },
     "execution_count": 14,
     "metadata": {},
     "output_type": "execute_result"
    },
    {
     "data": {
      "image/png": "[encoded data removed]",
      "text/plain": [
       "<Figure size 432x288 with 1 Axes>"
      ]
     },
     "metadata": {},
     "output_type": "display_data"
    }
   ],
   "source": [
    "print('Number of people having various hair length in Test Dataset: ')\n",
    "data2['hair'].value_counts().plot(kind='bar')"
   ]
  },
  {
   "cell_type": "code",
   "execution_count": 15,
   "metadata": {},
   "outputs": [
    {
     "name": "stdout",
     "output_type": "stream",
     "text": [
      "Number of people have/haven't beard in Train Dataset: \n"
     ]
    },
    {
     "data": {
      "text/plain": [
       "<matplotlib.axes._subplots.AxesSubplot at 0x23b20b39f28>"
      ]
     },
     "execution_count": 15,
     "metadata": {},
     "output_type": "execute_result"
    },
    {
     "data": {
      "image/png": "[encoded data removed]",
      "text/plain": [
       "<Figure size 432x288 with 1 Axes>"
      ]
     },
     "metadata": {},
     "output_type": "display_data"
    }
   ],
   "source": [
    "print('Number of people have/haven\\'t beard in Train Dataset: ')\n",
    "data1['beard'].value_counts().plot(kind='bar')"
   ]
  },
  {
   "cell_type": "code",
   "execution_count": 16,
   "metadata": {},
   "outputs": [
    {
     "name": "stdout",
     "output_type": "stream",
     "text": [
      "Number of people have/haven't beard in Test Dataset: \n"
     ]
    },
    {
     "data": {
      "text/plain": [
       "<matplotlib.axes._subplots.AxesSubplot at 0x23b20b93048>"
      ]
     },
     "execution_count": 16,
     "metadata": {},
     "output_type": "execute_result"
    },
    {
     "data": {
      "image/png": "[encoded data removed]",
      "text/plain": [
       "<Figure size 432x288 with 1 Axes>"
      ]
     },
     "metadata": {},
     "output_type": "display_data"
    }
   ],
   "source": [
    "print('Number of people have/haven\\'t beard in Test Dataset: ')\n",
    "data2['beard'].value_counts().plot(kind='bar')"
   ]
  },
  {
   "cell_type": "markdown",
   "metadata": {},
   "source": [
    "## Step: 2.3 Pre Process Data"
   ]
  },
  {
   "cell_type": "code",
   "execution_count": 17,
   "metadata": {},
   "outputs": [
    {
     "name": "stdout",
     "output_type": "stream",
     "text": [
      "Train Data before pre-processing:\n",
      "\n"
     ]
    },
    {
     "data": {
      "text/html": [
       "<div>\n",
       "<style scoped>\n",
       "    .dataframe tbody tr th:only-of-type {\n",
       "        vertical-align: middle;\n",
       "    }\n",
       "\n",
       "    .dataframe tbody tr th {\n",
       "        vertical-align: top;\n",
       "    }\n",
       "\n",
       "    .dataframe thead th {\n",
       "        text-align: right;\n",
       "    }\n",
       "</style>\n",
       "<table border=\"1\" class=\"dataframe\">\n",
       "  <thead>\n",
       "    <tr style=\"text-align: right;\">\n",
       "      <th></th>\n",
       "      <th>height</th>\n",
       "      <th>weight</th>\n",
       "      <th>hair</th>\n",
       "      <th>beard</th>\n",
       "      <th>scarf</th>\n",
       "      <th>gender</th>\n",
       "    </tr>\n",
       "  </thead>\n",
       "  <tbody>\n",
       "    <tr>\n",
       "      <th>0</th>\n",
       "      <td>180.3000</td>\n",
       "      <td>196</td>\n",
       "      <td>Bald</td>\n",
       "      <td>Yes</td>\n",
       "      <td>No</td>\n",
       "      <td>Male</td>\n",
       "    </tr>\n",
       "    <tr>\n",
       "      <th>1</th>\n",
       "      <td>170.0000</td>\n",
       "      <td>120</td>\n",
       "      <td>Long</td>\n",
       "      <td>No</td>\n",
       "      <td>No</td>\n",
       "      <td>Female</td>\n",
       "    </tr>\n",
       "    <tr>\n",
       "      <th>2</th>\n",
       "      <td>178.5000</td>\n",
       "      <td>200</td>\n",
       "      <td>Short</td>\n",
       "      <td>No</td>\n",
       "      <td>No</td>\n",
       "      <td>Male</td>\n",
       "    </tr>\n",
       "    <tr>\n",
       "      <th>3</th>\n",
       "      <td>163.4000</td>\n",
       "      <td>110</td>\n",
       "      <td>Medium</td>\n",
       "      <td>No</td>\n",
       "      <td>Yes</td>\n",
       "      <td>Female</td>\n",
       "    </tr>\n",
       "    <tr>\n",
       "      <th>4</th>\n",
       "      <td>175.2222</td>\n",
       "      <td>220</td>\n",
       "      <td>Short</td>\n",
       "      <td>Yes</td>\n",
       "      <td>No</td>\n",
       "      <td>Male</td>\n",
       "    </tr>\n",
       "    <tr>\n",
       "      <th>5</th>\n",
       "      <td>165.0000</td>\n",
       "      <td>150</td>\n",
       "      <td>Medium</td>\n",
       "      <td>No</td>\n",
       "      <td>Yes</td>\n",
       "      <td>Female</td>\n",
       "    </tr>\n",
       "  </tbody>\n",
       "</table>\n",
       "</div>"
      ],
      "text/plain": [
       "     height  weight    hair beard scarf  gender\n",
       "0  180.3000     196    Bald   Yes    No    Male\n",
       "1  170.0000     120    Long    No    No  Female\n",
       "2  178.5000     200   Short    No    No    Male\n",
       "3  163.4000     110  Medium    No   Yes  Female\n",
       "4  175.2222     220   Short   Yes    No    Male\n",
       "5  165.0000     150  Medium    No   Yes  Female"
      ]
     },
     "execution_count": 17,
     "metadata": {},
     "output_type": "execute_result"
    }
   ],
   "source": [
    "print('Train Data before pre-processing:\\n')\n",
    "\n",
    "Matrix = pd.DataFrame(data1)\n",
    "Matrix"
   ]
  },
  {
   "cell_type": "code",
   "execution_count": 18,
   "metadata": {},
   "outputs": [
    {
     "name": "stdout",
     "output_type": "stream",
     "text": [
      "\n",
      "Train Data after pre-processing: \n",
      "\n"
     ]
    },
    {
     "data": {
      "text/html": [
       "<div>\n",
       "<style scoped>\n",
       "    .dataframe tbody tr th:only-of-type {\n",
       "        vertical-align: middle;\n",
       "    }\n",
       "\n",
       "    .dataframe tbody tr th {\n",
       "        vertical-align: top;\n",
       "    }\n",
       "\n",
       "    .dataframe thead th {\n",
       "        text-align: right;\n",
       "    }\n",
       "</style>\n",
       "<table border=\"1\" class=\"dataframe\">\n",
       "  <thead>\n",
       "    <tr style=\"text-align: right;\">\n",
       "      <th></th>\n",
       "      <th>height</th>\n",
       "      <th>weight</th>\n",
       "      <th>hair</th>\n",
       "      <th>beard</th>\n",
       "      <th>scarf</th>\n",
       "      <th>gender</th>\n",
       "    </tr>\n",
       "  </thead>\n",
       "  <tbody>\n",
       "    <tr>\n",
       "      <th>0</th>\n",
       "      <td>180.30</td>\n",
       "      <td>196</td>\n",
       "      <td>Bald</td>\n",
       "      <td>Yes</td>\n",
       "      <td>No</td>\n",
       "      <td>Male</td>\n",
       "    </tr>\n",
       "    <tr>\n",
       "      <th>1</th>\n",
       "      <td>170.00</td>\n",
       "      <td>120</td>\n",
       "      <td>Long</td>\n",
       "      <td>No</td>\n",
       "      <td>No</td>\n",
       "      <td>Female</td>\n",
       "    </tr>\n",
       "    <tr>\n",
       "      <th>2</th>\n",
       "      <td>178.50</td>\n",
       "      <td>200</td>\n",
       "      <td>Short</td>\n",
       "      <td>No</td>\n",
       "      <td>No</td>\n",
       "      <td>Male</td>\n",
       "    </tr>\n",
       "    <tr>\n",
       "      <th>3</th>\n",
       "      <td>163.40</td>\n",
       "      <td>110</td>\n",
       "      <td>Medium</td>\n",
       "      <td>No</td>\n",
       "      <td>Yes</td>\n",
       "      <td>Female</td>\n",
       "    </tr>\n",
       "    <tr>\n",
       "      <th>4</th>\n",
       "      <td>175.22</td>\n",
       "      <td>220</td>\n",
       "      <td>Short</td>\n",
       "      <td>Yes</td>\n",
       "      <td>No</td>\n",
       "      <td>Male</td>\n",
       "    </tr>\n",
       "    <tr>\n",
       "      <th>5</th>\n",
       "      <td>165.00</td>\n",
       "      <td>150</td>\n",
       "      <td>Medium</td>\n",
       "      <td>No</td>\n",
       "      <td>Yes</td>\n",
       "      <td>Female</td>\n",
       "    </tr>\n",
       "  </tbody>\n",
       "</table>\n",
       "</div>"
      ],
      "text/plain": [
       "   height  weight    hair beard scarf  gender\n",
       "0  180.30     196    Bald   Yes    No    Male\n",
       "1  170.00     120    Long    No    No  Female\n",
       "2  178.50     200   Short    No    No    Male\n",
       "3  163.40     110  Medium    No   Yes  Female\n",
       "4  175.22     220   Short   Yes    No    Male\n",
       "5  165.00     150  Medium    No   Yes  Female"
      ]
     },
     "execution_count": 18,
     "metadata": {},
     "output_type": "execute_result"
    }
   ],
   "source": [
    "print('\\nTrain Data after pre-processing: \\n')\n",
    "data1 = data1.round(2)\n",
    "\n",
    "Matrix = pd.DataFrame(data1)\n",
    "Matrix"
   ]
  },
  {
   "cell_type": "markdown",
   "metadata": {},
   "source": [
    "# Step 3 : Label Encoding for Train/ Test Data"
   ]
  },
  {
   "cell_type": "code",
   "execution_count": 19,
   "metadata": {},
   "outputs": [],
   "source": [
    "enc_hair = LabelEncoder()\n",
    "enc_hair.fit(data1['hair'])\n",
    "\n",
    "enc_beard = LabelEncoder()\n",
    "enc_beard.fit(data1['beard'])\n",
    "\n",
    "enc_scarf = LabelEncoder()\n",
    "enc_scarf.fit(data1['scarf'])\n",
    "\n",
    "enc_gender = LabelEncoder()\n",
    "enc_gender.fit(data1['gender'])\n",
    "\n",
    "TEMPdata1 = data1.copy()"
   ]
  },
  {
   "cell_type": "code",
   "execution_count": 20,
   "metadata": {},
   "outputs": [
    {
     "name": "stdout",
     "output_type": "stream",
     "text": [
      "Gender Attribute Encoding in Train Dataset: \n",
      "\n",
      "   gender  encoded_gender\n",
      "0    Male               1\n",
      "1  Female               0\n",
      "2    Male               1\n",
      "3  Female               0\n",
      "4    Male               1\n",
      "5  Female               0\n"
     ]
    }
   ],
   "source": [
    "print('Gender Attribute Encoding in Train Dataset: \\n')\n",
    "temp_var = {'gender': data1['gender'], 'encoded_gender': enc_gender.transform(data1['gender'])}\n",
    "data1['gender'] = enc_gender.transform(data1['gender'])\n",
    "print(pd.DataFrame(temp_var))\n"
   ]
  },
  {
   "cell_type": "code",
   "execution_count": 21,
   "metadata": {},
   "outputs": [
    {
     "name": "stdout",
     "output_type": "stream",
     "text": [
      "Scarf Attribute Encoding in Train Dataset: \n",
      "\n",
      "  scarf  encoded_scarf\n",
      "0    No              0\n",
      "1    No              0\n",
      "2    No              0\n",
      "3   Yes              1\n",
      "4    No              0\n",
      "5   Yes              1\n"
     ]
    }
   ],
   "source": [
    "print('Scarf Attribute Encoding in Train Dataset: \\n')\n",
    "temp_var = {'scarf': data1['scarf'], 'encoded_scarf': enc_scarf.transform(data1['scarf'])}\n",
    "data1['scarf'] = enc_scarf.transform(data1['scarf'])\n",
    "print(pd.DataFrame(temp_var))"
   ]
  },
  {
   "cell_type": "code",
   "execution_count": 22,
   "metadata": {},
   "outputs": [
    {
     "name": "stdout",
     "output_type": "stream",
     "text": [
      "Beard Attribute Encoding in Train Dataset: \n",
      "\n",
      "  beard  encoded_beard\n",
      "0   Yes              1\n",
      "1    No              0\n",
      "2    No              0\n",
      "3    No              0\n",
      "4   Yes              1\n",
      "5    No              0\n"
     ]
    }
   ],
   "source": [
    "print('Beard Attribute Encoding in Train Dataset: \\n')\n",
    "temp_var = {'beard': data1['beard'], 'encoded_beard': enc_beard.transform(data1['beard'])}\n",
    "data1['beard'] = enc_beard.transform(data1['beard'])\n",
    "print(pd.DataFrame(temp_var))"
   ]
  },
  {
   "cell_type": "code",
   "execution_count": 23,
   "metadata": {},
   "outputs": [
    {
     "name": "stdout",
     "output_type": "stream",
     "text": [
      "Hair Attribute Encoding in Train Dataset: \n",
      "\n",
      "     hair  encoded_hair\n",
      "0    Bald             0\n",
      "1    Long             1\n",
      "2   Short             3\n",
      "3  Medium             2\n",
      "4   Short             3\n",
      "5  Medium             2\n"
     ]
    }
   ],
   "source": [
    "print('Hair Attribute Encoding in Train Dataset: \\n')\n",
    "temp_var = {'hair': data1['hair'], 'encoded_hair': enc_hair.transform(data1['hair'])}\n",
    "data1['hair'] = enc_hair.transform(data1['hair'])\n",
    "print(pd.DataFrame(temp_var))"
   ]
  },
  {
   "cell_type": "code",
   "execution_count": 24,
   "metadata": {},
   "outputs": [
    {
     "name": "stdout",
     "output_type": "stream",
     "text": [
      "Original Train Data: \n",
      "\n"
     ]
    },
    {
     "data": {
      "text/html": [
       "<div>\n",
       "<style scoped>\n",
       "    .dataframe tbody tr th:only-of-type {\n",
       "        vertical-align: middle;\n",
       "    }\n",
       "\n",
       "    .dataframe tbody tr th {\n",
       "        vertical-align: top;\n",
       "    }\n",
       "\n",
       "    .dataframe thead th {\n",
       "        text-align: right;\n",
       "    }\n",
       "</style>\n",
       "<table border=\"1\" class=\"dataframe\">\n",
       "  <thead>\n",
       "    <tr style=\"text-align: right;\">\n",
       "      <th></th>\n",
       "      <th>height</th>\n",
       "      <th>weight</th>\n",
       "      <th>hair</th>\n",
       "      <th>beard</th>\n",
       "      <th>scarf</th>\n",
       "      <th>gender</th>\n",
       "    </tr>\n",
       "  </thead>\n",
       "  <tbody>\n",
       "    <tr>\n",
       "      <th>0</th>\n",
       "      <td>180.30</td>\n",
       "      <td>196</td>\n",
       "      <td>Bald</td>\n",
       "      <td>Yes</td>\n",
       "      <td>No</td>\n",
       "      <td>Male</td>\n",
       "    </tr>\n",
       "    <tr>\n",
       "      <th>1</th>\n",
       "      <td>170.00</td>\n",
       "      <td>120</td>\n",
       "      <td>Long</td>\n",
       "      <td>No</td>\n",
       "      <td>No</td>\n",
       "      <td>Female</td>\n",
       "    </tr>\n",
       "    <tr>\n",
       "      <th>2</th>\n",
       "      <td>178.50</td>\n",
       "      <td>200</td>\n",
       "      <td>Short</td>\n",
       "      <td>No</td>\n",
       "      <td>No</td>\n",
       "      <td>Male</td>\n",
       "    </tr>\n",
       "    <tr>\n",
       "      <th>3</th>\n",
       "      <td>163.40</td>\n",
       "      <td>110</td>\n",
       "      <td>Medium</td>\n",
       "      <td>No</td>\n",
       "      <td>Yes</td>\n",
       "      <td>Female</td>\n",
       "    </tr>\n",
       "    <tr>\n",
       "      <th>4</th>\n",
       "      <td>175.22</td>\n",
       "      <td>220</td>\n",
       "      <td>Short</td>\n",
       "      <td>Yes</td>\n",
       "      <td>No</td>\n",
       "      <td>Male</td>\n",
       "    </tr>\n",
       "    <tr>\n",
       "      <th>5</th>\n",
       "      <td>165.00</td>\n",
       "      <td>150</td>\n",
       "      <td>Medium</td>\n",
       "      <td>No</td>\n",
       "      <td>Yes</td>\n",
       "      <td>Female</td>\n",
       "    </tr>\n",
       "  </tbody>\n",
       "</table>\n",
       "</div>"
      ],
      "text/plain": [
       "   height  weight    hair beard scarf  gender\n",
       "0  180.30     196    Bald   Yes    No    Male\n",
       "1  170.00     120    Long    No    No  Female\n",
       "2  178.50     200   Short    No    No    Male\n",
       "3  163.40     110  Medium    No   Yes  Female\n",
       "4  175.22     220   Short   Yes    No    Male\n",
       "5  165.00     150  Medium    No   Yes  Female"
      ]
     },
     "execution_count": 24,
     "metadata": {},
     "output_type": "execute_result"
    }
   ],
   "source": [
    "print('Original Train Data: \\n')\n",
    "\n",
    "Matrix = pd.DataFrame(TEMPdata1)\n",
    "Matrix"
   ]
  },
  {
   "cell_type": "code",
   "execution_count": 25,
   "metadata": {},
   "outputs": [
    {
     "name": "stdout",
     "output_type": "stream",
     "text": [
      "\n",
      "Train Data After Label Encoding: \n",
      " \n"
     ]
    },
    {
     "data": {
      "text/html": [
       "<div>\n",
       "<style scoped>\n",
       "    .dataframe tbody tr th:only-of-type {\n",
       "        vertical-align: middle;\n",
       "    }\n",
       "\n",
       "    .dataframe tbody tr th {\n",
       "        vertical-align: top;\n",
       "    }\n",
       "\n",
       "    .dataframe thead th {\n",
       "        text-align: right;\n",
       "    }\n",
       "</style>\n",
       "<table border=\"1\" class=\"dataframe\">\n",
       "  <thead>\n",
       "    <tr style=\"text-align: right;\">\n",
       "      <th></th>\n",
       "      <th>height</th>\n",
       "      <th>weight</th>\n",
       "      <th>hair</th>\n",
       "      <th>beard</th>\n",
       "      <th>scarf</th>\n",
       "      <th>gender</th>\n",
       "    </tr>\n",
       "  </thead>\n",
       "  <tbody>\n",
       "    <tr>\n",
       "      <th>0</th>\n",
       "      <td>180.30</td>\n",
       "      <td>196</td>\n",
       "      <td>0</td>\n",
       "      <td>1</td>\n",
       "      <td>0</td>\n",
       "      <td>1</td>\n",
       "    </tr>\n",
       "    <tr>\n",
       "      <th>1</th>\n",
       "      <td>170.00</td>\n",
       "      <td>120</td>\n",
       "      <td>1</td>\n",
       "      <td>0</td>\n",
       "      <td>0</td>\n",
       "      <td>0</td>\n",
       "    </tr>\n",
       "    <tr>\n",
       "      <th>2</th>\n",
       "      <td>178.50</td>\n",
       "      <td>200</td>\n",
       "      <td>3</td>\n",
       "      <td>0</td>\n",
       "      <td>0</td>\n",
       "      <td>1</td>\n",
       "    </tr>\n",
       "    <tr>\n",
       "      <th>3</th>\n",
       "      <td>163.40</td>\n",
       "      <td>110</td>\n",
       "      <td>2</td>\n",
       "      <td>0</td>\n",
       "      <td>1</td>\n",
       "      <td>0</td>\n",
       "    </tr>\n",
       "    <tr>\n",
       "      <th>4</th>\n",
       "      <td>175.22</td>\n",
       "      <td>220</td>\n",
       "      <td>3</td>\n",
       "      <td>1</td>\n",
       "      <td>0</td>\n",
       "      <td>1</td>\n",
       "    </tr>\n",
       "    <tr>\n",
       "      <th>5</th>\n",
       "      <td>165.00</td>\n",
       "      <td>150</td>\n",
       "      <td>2</td>\n",
       "      <td>0</td>\n",
       "      <td>1</td>\n",
       "      <td>0</td>\n",
       "    </tr>\n",
       "  </tbody>\n",
       "</table>\n",
       "</div>"
      ],
      "text/plain": [
       "   height  weight  hair  beard  scarf  gender\n",
       "0  180.30     196     0      1      0       1\n",
       "1  170.00     120     1      0      0       0\n",
       "2  178.50     200     3      0      0       1\n",
       "3  163.40     110     2      0      1       0\n",
       "4  175.22     220     3      1      0       1\n",
       "5  165.00     150     2      0      1       0"
      ]
     },
     "execution_count": 25,
     "metadata": {},
     "output_type": "execute_result"
    }
   ],
   "source": [
    "print('\\nTrain Data After Label Encoding: \\n ')\n",
    "\n",
    "Matrix = pd.DataFrame(data1)\n",
    "Matrix"
   ]
  },
  {
   "cell_type": "code",
   "execution_count": 26,
   "metadata": {},
   "outputs": [],
   "source": [
    "TEMPdata2 = data2.copy()\n",
    "\n",
    "data2['hair'] = enc_hair.transform(data2['hair'])\n",
    "data2['scarf'] = enc_scarf.transform(data2['scarf'])\n",
    "data2['beard'] = enc_beard.transform(data2['beard'])\n",
    "data2['gender'] = enc_gender.transform(data2['gender'])"
   ]
  },
  {
   "cell_type": "code",
   "execution_count": 27,
   "metadata": {},
   "outputs": [
    {
     "name": "stdout",
     "output_type": "stream",
     "text": [
      "Original Test Data:\n",
      " \n"
     ]
    },
    {
     "data": {
      "text/html": [
       "<div>\n",
       "<style scoped>\n",
       "    .dataframe tbody tr th:only-of-type {\n",
       "        vertical-align: middle;\n",
       "    }\n",
       "\n",
       "    .dataframe tbody tr th {\n",
       "        vertical-align: top;\n",
       "    }\n",
       "\n",
       "    .dataframe thead th {\n",
       "        text-align: right;\n",
       "    }\n",
       "</style>\n",
       "<table border=\"1\" class=\"dataframe\">\n",
       "  <thead>\n",
       "    <tr style=\"text-align: right;\">\n",
       "      <th></th>\n",
       "      <th>height</th>\n",
       "      <th>weight</th>\n",
       "      <th>hair</th>\n",
       "      <th>beard</th>\n",
       "      <th>scarf</th>\n",
       "      <th>gender</th>\n",
       "    </tr>\n",
       "  </thead>\n",
       "  <tbody>\n",
       "    <tr>\n",
       "      <th>0</th>\n",
       "      <td>179.1</td>\n",
       "      <td>185</td>\n",
       "      <td>Long</td>\n",
       "      <td>Yes</td>\n",
       "      <td>No</td>\n",
       "      <td>Male</td>\n",
       "    </tr>\n",
       "    <tr>\n",
       "      <th>1</th>\n",
       "      <td>160.5</td>\n",
       "      <td>130</td>\n",
       "      <td>Short</td>\n",
       "      <td>No</td>\n",
       "      <td>No</td>\n",
       "      <td>Female</td>\n",
       "    </tr>\n",
       "    <tr>\n",
       "      <th>2</th>\n",
       "      <td>177.8</td>\n",
       "      <td>160</td>\n",
       "      <td>Bald</td>\n",
       "      <td>No</td>\n",
       "      <td>No</td>\n",
       "      <td>Male</td>\n",
       "    </tr>\n",
       "    <tr>\n",
       "      <th>3</th>\n",
       "      <td>161.1</td>\n",
       "      <td>100</td>\n",
       "      <td>Medium</td>\n",
       "      <td>No</td>\n",
       "      <td>No</td>\n",
       "      <td>Female</td>\n",
       "    </tr>\n",
       "  </tbody>\n",
       "</table>\n",
       "</div>"
      ],
      "text/plain": [
       "   height  weight    hair beard scarf  gender\n",
       "0   179.1     185    Long   Yes    No    Male\n",
       "1   160.5     130   Short    No    No  Female\n",
       "2   177.8     160    Bald    No    No    Male\n",
       "3   161.1     100  Medium    No    No  Female"
      ]
     },
     "execution_count": 27,
     "metadata": {},
     "output_type": "execute_result"
    }
   ],
   "source": [
    "print('Original Test Data:\\n ')\n",
    "\n",
    "Matrix = pd.DataFrame(TEMPdata2)\n",
    "Matrix"
   ]
  },
  {
   "cell_type": "code",
   "execution_count": 28,
   "metadata": {},
   "outputs": [
    {
     "name": "stdout",
     "output_type": "stream",
     "text": [
      "\n",
      "Test Data After Label Encoding: \n",
      "\n"
     ]
    },
    {
     "data": {
      "text/html": [
       "<div>\n",
       "<style scoped>\n",
       "    .dataframe tbody tr th:only-of-type {\n",
       "        vertical-align: middle;\n",
       "    }\n",
       "\n",
       "    .dataframe tbody tr th {\n",
       "        vertical-align: top;\n",
       "    }\n",
       "\n",
       "    .dataframe thead th {\n",
       "        text-align: right;\n",
       "    }\n",
       "</style>\n",
       "<table border=\"1\" class=\"dataframe\">\n",
       "  <thead>\n",
       "    <tr style=\"text-align: right;\">\n",
       "      <th></th>\n",
       "      <th>height</th>\n",
       "      <th>weight</th>\n",
       "      <th>hair</th>\n",
       "      <th>beard</th>\n",
       "      <th>scarf</th>\n",
       "      <th>gender</th>\n",
       "    </tr>\n",
       "  </thead>\n",
       "  <tbody>\n",
       "    <tr>\n",
       "      <th>0</th>\n",
       "      <td>179.1</td>\n",
       "      <td>185</td>\n",
       "      <td>1</td>\n",
       "      <td>1</td>\n",
       "      <td>0</td>\n",
       "      <td>1</td>\n",
       "    </tr>\n",
       "    <tr>\n",
       "      <th>1</th>\n",
       "      <td>160.5</td>\n",
       "      <td>130</td>\n",
       "      <td>3</td>\n",
       "      <td>0</td>\n",
       "      <td>0</td>\n",
       "      <td>0</td>\n",
       "    </tr>\n",
       "    <tr>\n",
       "      <th>2</th>\n",
       "      <td>177.8</td>\n",
       "      <td>160</td>\n",
       "      <td>0</td>\n",
       "      <td>0</td>\n",
       "      <td>0</td>\n",
       "      <td>1</td>\n",
       "    </tr>\n",
       "    <tr>\n",
       "      <th>3</th>\n",
       "      <td>161.1</td>\n",
       "      <td>100</td>\n",
       "      <td>2</td>\n",
       "      <td>0</td>\n",
       "      <td>0</td>\n",
       "      <td>0</td>\n",
       "    </tr>\n",
       "  </tbody>\n",
       "</table>\n",
       "</div>"
      ],
      "text/plain": [
       "   height  weight  hair  beard  scarf  gender\n",
       "0   179.1     185     1      1      0       1\n",
       "1   160.5     130     3      0      0       0\n",
       "2   177.8     160     0      0      0       1\n",
       "3   161.1     100     2      0      0       0"
      ]
     },
     "execution_count": 28,
     "metadata": {},
     "output_type": "execute_result"
    }
   ],
   "source": [
    "print('\\nTest Data After Label Encoding: \\n')\n",
    "\n",
    "Matrix = pd.DataFrame(data2)\n",
    "Matrix"
   ]
  },
  {
   "cell_type": "markdown",
   "metadata": {},
   "source": [
    "# Step 4 : Features Extraction\n",
    "The features are already extracted for this example."
   ]
  },
  {
   "cell_type": "markdown",
   "metadata": {},
   "source": [
    " # Step 5 : Train ML Algorithms using Train Data"
   ]
  },
  {
   "cell_type": "code",
   "execution_count": 29,
   "metadata": {},
   "outputs": [],
   "source": [
    "logistic_regression = LogisticRegression()\n",
    "random_forest = RandomForestClassifier()\n",
    "linear_svc = LinearSVC()\n",
    "bernoulli_nb = BernoulliNB()"
   ]
  },
  {
   "cell_type": "code",
   "execution_count": 30,
   "metadata": {},
   "outputs": [
    {
     "name": "stdout",
     "output_type": "stream",
     "text": [
      "Parameters and their values:\n",
      "\n",
      "LogisticRegression(C=1.0, class_weight=None, dual=False, fit_intercept=True,\n",
      "          intercept_scaling=1, max_iter=100, multi_class='ovr', n_jobs=1,\n",
      "          penalty='l2', random_state=None, solver='liblinear', tol=0.0001,\n",
      "          verbose=0, warm_start=False)\n"
     ]
    }
   ],
   "source": [
    "print('Parameters and their values:\\n')\n",
    "print(logistic_regression.fit(data1.iloc[0:6, 0:5], data1.iloc[0:6, 5]))"
   ]
  },
  {
   "cell_type": "code",
   "execution_count": 31,
   "metadata": {},
   "outputs": [
    {
     "name": "stdout",
     "output_type": "stream",
     "text": [
      "Parameters and their values:\n",
      "\n",
      "RandomForestClassifier(bootstrap=True, class_weight=None, criterion='gini',\n",
      "            max_depth=None, max_features='auto', max_leaf_nodes=None,\n",
      "            min_impurity_decrease=0.0, min_impurity_split=None,\n",
      "            min_samples_leaf=1, min_samples_split=2,\n",
      "            min_weight_fraction_leaf=0.0, n_estimators=10, n_jobs=1,\n",
      "            oob_score=False, random_state=None, verbose=0,\n",
      "            warm_start=False)\n"
     ]
    }
   ],
   "source": [
    "print('Parameters and their values:\\n')\n",
    "print(random_forest.fit(data1.iloc[0:6, 0:5], data1.iloc[0:6, 5]))"
   ]
  },
  {
   "cell_type": "code",
   "execution_count": 32,
   "metadata": {},
   "outputs": [
    {
     "name": "stdout",
     "output_type": "stream",
     "text": [
      "Parameters and their values:\n",
      "\n",
      "LinearSVC(C=1.0, class_weight=None, dual=True, fit_intercept=True,\n",
      "     intercept_scaling=1, loss='squared_hinge', max_iter=1000,\n",
      "     multi_class='ovr', penalty='l2', random_state=None, tol=0.0001,\n",
      "     verbose=0)\n"
     ]
    }
   ],
   "source": [
    "print('Parameters and their values:\\n')\n",
    "print(linear_svc.fit(data1.iloc[0:6, 0:5], data1.iloc[0:6, 5]))"
   ]
  },
  {
   "cell_type": "code",
   "execution_count": 33,
   "metadata": {},
   "outputs": [
    {
     "name": "stdout",
     "output_type": "stream",
     "text": [
      "Parameters and their values:\n",
      "\n",
      "BernoulliNB(alpha=1.0, binarize=0.0, class_prior=None, fit_prior=True)\n"
     ]
    }
   ],
   "source": [
    "print('Parameters and their values:\\n')\n",
    "print(bernoulli_nb.fit(data1.iloc[0:6, 0:5], data1.iloc[0:6, 5]))"
   ]
  },
  {
   "cell_type": "markdown",
   "metadata": {},
   "source": [
    "# Step 6: Evaluate ML Algorithms using Test Data"
   ]
  },
  {
   "cell_type": "code",
   "execution_count": 34,
   "metadata": {},
   "outputs": [
    {
     "name": "stdout",
     "output_type": "stream",
     "text": [
      "Prediction using Logistic Regression: \n",
      "\n",
      "   height  weight    hair beard scarf  gender predicted_gender\n",
      "0   179.1     185    Long   Yes    No    Male             Male\n",
      "1   160.5     130   Short    No    No  Female           Female\n",
      "2   177.8     160    Bald    No    No    Male           Female\n",
      "3   161.1     100  Medium    No    No  Female           Female\n",
      "\n",
      "Accuracy Score = 0.75\n"
     ]
    }
   ],
   "source": [
    "predict_logistic_regression = logistic_regression.predict(data2.iloc[0:6, 0:5])\n",
    "print('Prediction using Logistic Regression: \\n')\n",
    "temp_frame = pd.DataFrame({'predicted_gender': enc_gender.inverse_transform(predict_logistic_regression)})\n",
    "print(pd.concat([TEMPdata2, temp_frame], axis=1))\n",
    "print('\\nAccuracy Score = ' + str(accuracy_score(data2.iloc[0:6, 5], predict_logistic_regression)))"
   ]
  },
  {
   "cell_type": "code",
   "execution_count": 35,
   "metadata": {},
   "outputs": [
    {
     "name": "stdout",
     "output_type": "stream",
     "text": [
      "Prediction using Random Forest Classifier:\n",
      "\n",
      "   height  weight    hair beard scarf  gender predicted_gender\n",
      "0   179.1     185    Long   Yes    No    Male             Male\n",
      "1   160.5     130   Short    No    No  Female           Female\n",
      "2   177.8     160    Bald    No    No    Male             Male\n",
      "3   161.1     100  Medium    No    No  Female           Female\n",
      "\n",
      "Accuracy Score = 1.0\n"
     ]
    }
   ],
   "source": [
    "predict_random_forest = random_forest.predict(data2.iloc[0:6, 0:5])\n",
    "print('Prediction using Random Forest Classifier:\\n')\n",
    "temp_frame = pd.DataFrame({'predicted_gender': enc_gender.inverse_transform(predict_random_forest)})\n",
    "print(pd.concat([TEMPdata2, temp_frame], axis=1))\n",
    "print('\\nAccuracy Score = ' + str(accuracy_score(data2.iloc[0:6, 5], predict_random_forest)))"
   ]
  },
  {
   "cell_type": "code",
   "execution_count": 36,
   "metadata": {},
   "outputs": [
    {
     "name": "stdout",
     "output_type": "stream",
     "text": [
      "Prediction using LinearSVC:\n",
      "\n",
      "   height  weight    hair beard scarf  gender predicted_gender\n",
      "0   179.1     185    Long   Yes    No    Male             Male\n",
      "1   160.5     130   Short    No    No  Female           Female\n",
      "2   177.8     160    Bald    No    No    Male           Female\n",
      "3   161.1     100  Medium    No    No  Female           Female\n",
      "\n",
      "Accuracy Score = 0.75\n"
     ]
    }
   ],
   "source": [
    "predict_linear_svc = linear_svc.predict(data2.iloc[0:6, 0:5])\n",
    "print('Prediction using LinearSVC:\\n')\n",
    "temp_frame = pd.DataFrame({'predicted_gender': enc_gender.inverse_transform(predict_linear_svc)})\n",
    "\n",
    "print(pd.concat([TEMPdata2, temp_frame], axis=1))\n",
    "print('\\nAccuracy Score = ' + str(accuracy_score(data2.iloc[0:6, 5], predict_linear_svc)))"
   ]
  },
  {
   "cell_type": "code",
   "execution_count": 37,
   "metadata": {},
   "outputs": [
    {
     "name": "stdout",
     "output_type": "stream",
     "text": [
      "Prediction using BernoulliNB:\n",
      "\n",
      "   height  weight    hair beard scarf  gender predicted_gender\n",
      "0   179.1     185    Long   Yes    No    Male             Male\n",
      "1   160.5     130   Short    No    No  Female           Female\n",
      "2   177.8     160    Bald    No    No    Male             Male\n",
      "3   161.1     100  Medium    No    No  Female           Female\n",
      "\n",
      "Accuracy Score = 1.0\n"
     ]
    }
   ],
   "source": [
    "predict_bernoulli_nb = bernoulli_nb.predict(data2.iloc[0:6, 0:5])\n",
    "print('Prediction using BernoulliNB:\\n')\n",
    "temp_frame = pd.DataFrame({'predicted_gender': enc_gender.inverse_transform(predict_bernoulli_nb)})\n",
    "print(pd.concat([TEMPdata2, temp_frame], axis=1))\n",
    "print('\\nAccuracy Score = ' + str(accuracy_score(data2.iloc[0:6, 5], predict_bernoulli_nb)))"
   ]
  },
  {
   "cell_type": "markdown",
   "metadata": {},
   "source": [
    "# Step 7 : Selection of Best Model "
   ]
  },
  {
   "cell_type": "code",
   "execution_count": 38,
   "metadata": {},
   "outputs": [
    {
     "name": "stdout",
     "output_type": "stream",
     "text": [
      "Detailed Performance of all the Models.\n",
      "=======================================\n",
      "+------------------------+----------+\n",
      "|         Model          | Accuracy |\n",
      "+------------------------+----------+\n",
      "|   LogisticRegression   |   0.75   |\n",
      "| RandomForestClassifier |   1.0    |\n",
      "|       LinearSVC        |   0.75   |\n",
      "|      BernoulliNB       |   1.0    |\n",
      "+------------------------+----------+\n",
      "\n",
      "Best Model.\n",
      "=======================================\n",
      "+------------------------+----------+\n",
      "|         Model          | Accuracy |\n",
      "+------------------------+----------+\n",
      "| RandomForestClassifier |   1.0    |\n",
      "+------------------------+----------+\n"
     ]
    }
   ],
   "source": [
    "pretty_table = PrettyTable()\n",
    "pretty_table.field_names = ['Model', 'Accuracy']\n",
    "pretty_table.add_row(['LogisticRegression', accuracy_score(data2.iloc[0:6, 5], predict_logistic_regression)])\n",
    "pretty_table.add_row(['RandomForestClassifier', accuracy_score(data2.iloc[0:6, 5], predict_random_forest)])\n",
    "pretty_table.add_row(['LinearSVC', accuracy_score(data2.iloc[0:6, 5], predict_linear_svc)])\n",
    "pretty_table.add_row(['BernoulliNB', accuracy_score(data2.iloc[0:6, 5], predict_bernoulli_nb)])\n",
    "\n",
    "print('Detailed Performance of all the Models.')\n",
    "print('=======================================')\n",
    "print(pretty_table)\n",
    "\n",
    "pretty_table = PrettyTable()\n",
    "pretty_table.field_names = ['Model', 'Accuracy']\n",
    "pretty_table.add_row(['RandomForestClassifier', accuracy_score(data2.iloc[0:6, 5], predict_random_forest)])\n",
    "\n",
    "print('\\nBest Model.')\n",
    "print('=======================================')\n",
    "print(pretty_table)"
   ]
  },
  {
   "cell_type": "markdown",
   "metadata": {},
   "source": [
    "# Step 8 : Application Phase"
   ]
  },
  {
   "cell_type": "markdown",
   "metadata": {},
   "source": [
    "## Step 8.1 : Combine Data (Train + Test)"
   ]
  },
  {
   "cell_type": "code",
   "execution_count": 39,
   "metadata": {},
   "outputs": [
    {
     "name": "stdout",
     "output_type": "stream",
     "text": [
      "Train Features in form of DataFrame: \n",
      "\n"
     ]
    },
    {
     "data": {
      "text/html": [
       "<div>\n",
       "<style scoped>\n",
       "    .dataframe tbody tr th:only-of-type {\n",
       "        vertical-align: middle;\n",
       "    }\n",
       "\n",
       "    .dataframe tbody tr th {\n",
       "        vertical-align: top;\n",
       "    }\n",
       "\n",
       "    .dataframe thead th {\n",
       "        text-align: right;\n",
       "    }\n",
       "</style>\n",
       "<table border=\"1\" class=\"dataframe\">\n",
       "  <thead>\n",
       "    <tr style=\"text-align: right;\">\n",
       "      <th></th>\n",
       "      <th>height</th>\n",
       "      <th>weight</th>\n",
       "      <th>hair</th>\n",
       "      <th>beard</th>\n",
       "      <th>scarf</th>\n",
       "      <th>gender</th>\n",
       "    </tr>\n",
       "  </thead>\n",
       "  <tbody>\n",
       "    <tr>\n",
       "      <th>0</th>\n",
       "      <td>180.30</td>\n",
       "      <td>196</td>\n",
       "      <td>0</td>\n",
       "      <td>1</td>\n",
       "      <td>0</td>\n",
       "      <td>1</td>\n",
       "    </tr>\n",
       "    <tr>\n",
       "      <th>1</th>\n",
       "      <td>170.00</td>\n",
       "      <td>120</td>\n",
       "      <td>1</td>\n",
       "      <td>0</td>\n",
       "      <td>0</td>\n",
       "      <td>0</td>\n",
       "    </tr>\n",
       "    <tr>\n",
       "      <th>2</th>\n",
       "      <td>178.50</td>\n",
       "      <td>200</td>\n",
       "      <td>3</td>\n",
       "      <td>0</td>\n",
       "      <td>0</td>\n",
       "      <td>1</td>\n",
       "    </tr>\n",
       "    <tr>\n",
       "      <th>3</th>\n",
       "      <td>163.40</td>\n",
       "      <td>110</td>\n",
       "      <td>2</td>\n",
       "      <td>0</td>\n",
       "      <td>1</td>\n",
       "      <td>0</td>\n",
       "    </tr>\n",
       "    <tr>\n",
       "      <th>4</th>\n",
       "      <td>175.22</td>\n",
       "      <td>220</td>\n",
       "      <td>3</td>\n",
       "      <td>1</td>\n",
       "      <td>0</td>\n",
       "      <td>1</td>\n",
       "    </tr>\n",
       "    <tr>\n",
       "      <th>5</th>\n",
       "      <td>165.00</td>\n",
       "      <td>150</td>\n",
       "      <td>2</td>\n",
       "      <td>0</td>\n",
       "      <td>1</td>\n",
       "      <td>0</td>\n",
       "    </tr>\n",
       "  </tbody>\n",
       "</table>\n",
       "</div>"
      ],
      "text/plain": [
       "   height  weight  hair  beard  scarf  gender\n",
       "0  180.30     196     0      1      0       1\n",
       "1  170.00     120     1      0      0       0\n",
       "2  178.50     200     3      0      0       1\n",
       "3  163.40     110     2      0      1       0\n",
       "4  175.22     220     3      1      0       1\n",
       "5  165.00     150     2      0      1       0"
      ]
     },
     "execution_count": 39,
     "metadata": {},
     "output_type": "execute_result"
    }
   ],
   "source": [
    "print('Train Features in form of DataFrame: \\n')\n",
    "\n",
    "Matrix = pd.DataFrame(data1)\n",
    "Matrix"
   ]
  },
  {
   "cell_type": "code",
   "execution_count": 40,
   "metadata": {},
   "outputs": [
    {
     "name": "stdout",
     "output_type": "stream",
     "text": [
      "Test Features in form of DataFrame: \n",
      "\n",
      "   height  weight  hair  beard  scarf  gender\n",
      "0   179.1     185     1      1      0       1\n",
      "1   160.5     130     3      0      0       0\n",
      "2   177.8     160     0      0      0       1\n",
      "3   161.1     100     2      0      0       0\n"
     ]
    }
   ],
   "source": [
    "print('Test Features in form of DataFrame: \\n')\n",
    "print(data2)"
   ]
  },
  {
   "cell_type": "code",
   "execution_count": 41,
   "metadata": {},
   "outputs": [
    {
     "name": "stdout",
     "output_type": "stream",
     "text": [
      "All features in form of data frame\n",
      "\n"
     ]
    },
    {
     "data": {
      "text/html": [
       "<div>\n",
       "<style scoped>\n",
       "    .dataframe tbody tr th:only-of-type {\n",
       "        vertical-align: middle;\n",
       "    }\n",
       "\n",
       "    .dataframe tbody tr th {\n",
       "        vertical-align: top;\n",
       "    }\n",
       "\n",
       "    .dataframe thead th {\n",
       "        text-align: right;\n",
       "    }\n",
       "</style>\n",
       "<table border=\"1\" class=\"dataframe\">\n",
       "  <thead>\n",
       "    <tr style=\"text-align: right;\">\n",
       "      <th></th>\n",
       "      <th>height</th>\n",
       "      <th>weight</th>\n",
       "      <th>hair</th>\n",
       "      <th>beard</th>\n",
       "      <th>scarf</th>\n",
       "      <th>gender</th>\n",
       "    </tr>\n",
       "  </thead>\n",
       "  <tbody>\n",
       "    <tr>\n",
       "      <th>0</th>\n",
       "      <td>180.30</td>\n",
       "      <td>196</td>\n",
       "      <td>0</td>\n",
       "      <td>1</td>\n",
       "      <td>0</td>\n",
       "      <td>1</td>\n",
       "    </tr>\n",
       "    <tr>\n",
       "      <th>1</th>\n",
       "      <td>170.00</td>\n",
       "      <td>120</td>\n",
       "      <td>1</td>\n",
       "      <td>0</td>\n",
       "      <td>0</td>\n",
       "      <td>0</td>\n",
       "    </tr>\n",
       "    <tr>\n",
       "      <th>2</th>\n",
       "      <td>178.50</td>\n",
       "      <td>200</td>\n",
       "      <td>3</td>\n",
       "      <td>0</td>\n",
       "      <td>0</td>\n",
       "      <td>1</td>\n",
       "    </tr>\n",
       "    <tr>\n",
       "      <th>3</th>\n",
       "      <td>163.40</td>\n",
       "      <td>110</td>\n",
       "      <td>2</td>\n",
       "      <td>0</td>\n",
       "      <td>1</td>\n",
       "      <td>0</td>\n",
       "    </tr>\n",
       "    <tr>\n",
       "      <th>4</th>\n",
       "      <td>175.22</td>\n",
       "      <td>220</td>\n",
       "      <td>3</td>\n",
       "      <td>1</td>\n",
       "      <td>0</td>\n",
       "      <td>1</td>\n",
       "    </tr>\n",
       "    <tr>\n",
       "      <th>5</th>\n",
       "      <td>165.00</td>\n",
       "      <td>150</td>\n",
       "      <td>2</td>\n",
       "      <td>0</td>\n",
       "      <td>1</td>\n",
       "      <td>0</td>\n",
       "    </tr>\n",
       "    <tr>\n",
       "      <th>0</th>\n",
       "      <td>179.10</td>\n",
       "      <td>185</td>\n",
       "      <td>1</td>\n",
       "      <td>1</td>\n",
       "      <td>0</td>\n",
       "      <td>1</td>\n",
       "    </tr>\n",
       "    <tr>\n",
       "      <th>1</th>\n",
       "      <td>160.50</td>\n",
       "      <td>130</td>\n",
       "      <td>3</td>\n",
       "      <td>0</td>\n",
       "      <td>0</td>\n",
       "      <td>0</td>\n",
       "    </tr>\n",
       "    <tr>\n",
       "      <th>2</th>\n",
       "      <td>177.80</td>\n",
       "      <td>160</td>\n",
       "      <td>0</td>\n",
       "      <td>0</td>\n",
       "      <td>0</td>\n",
       "      <td>1</td>\n",
       "    </tr>\n",
       "    <tr>\n",
       "      <th>3</th>\n",
       "      <td>161.10</td>\n",
       "      <td>100</td>\n",
       "      <td>2</td>\n",
       "      <td>0</td>\n",
       "      <td>0</td>\n",
       "      <td>0</td>\n",
       "    </tr>\n",
       "  </tbody>\n",
       "</table>\n",
       "</div>"
      ],
      "text/plain": [
       "   height  weight  hair  beard  scarf  gender\n",
       "0  180.30     196     0      1      0       1\n",
       "1  170.00     120     1      0      0       0\n",
       "2  178.50     200     3      0      0       1\n",
       "3  163.40     110     2      0      1       0\n",
       "4  175.22     220     3      1      0       1\n",
       "5  165.00     150     2      0      1       0\n",
       "0  179.10     185     1      1      0       1\n",
       "1  160.50     130     3      0      0       0\n",
       "2  177.80     160     0      0      0       1\n",
       "3  161.10     100     2      0      0       0"
      ]
     },
     "execution_count": 41,
     "metadata": {},
     "output_type": "execute_result"
    }
   ],
   "source": [
    "print('All features in form of data frame\\n')\n",
    "data3 = pd.concat([data1, data2])\n",
    "\n",
    "Matrix = pd.DataFrame(data3)\n",
    "Matrix"
   ]
  },
  {
   "cell_type": "markdown",
   "metadata": {},
   "source": [
    "## Step 8.2 : Train Best Model on All data"
   ]
  },
  {
   "cell_type": "code",
   "execution_count": 42,
   "metadata": {},
   "outputs": [
    {
     "data": {
      "text/plain": [
       "RandomForestClassifier(bootstrap=True, class_weight=None, criterion='gini',\n",
       "            max_depth=None, max_features='auto', max_leaf_nodes=None,\n",
       "            min_impurity_decrease=0.0, min_impurity_split=None,\n",
       "            min_samples_leaf=1, min_samples_split=2,\n",
       "            min_weight_fraction_leaf=0.0, n_estimators=10, n_jobs=1,\n",
       "            oob_score=False, random_state=None, verbose=0,\n",
       "            warm_start=False)"
      ]
     },
     "execution_count": 42,
     "metadata": {},
     "output_type": "execute_result"
    }
   ],
   "source": [
    "random_forest.fit(data3.iloc[0:6, 0:5], data3.iloc[0:6, 5])"
   ]
  },
  {
   "cell_type": "markdown",
   "metadata": {},
   "source": [
    "# Step 9: Make predictions on Unseen Data"
   ]
  },
  {
   "cell_type": "markdown",
   "metadata": {},
   "source": [
    "## Step 9.1 : Load The Model \n",
    "\n",
    "## Step 9.2 : Take input from User "
   ]
  },
  {
   "cell_type": "code",
   "execution_count": 43,
   "metadata": {},
   "outputs": [
    {
     "name": "stdout",
     "output_type": "stream",
     "text": [
      "Please enter your Height here (centimeter): 170\n",
      "Please enter your Weight here(kg): 120\n",
      "Please enter your hair Length here (Bald/Long/Medium/Short): Long\n",
      "Do you have beard? (Yes/No): No\n",
      "Do you have Scarf? (Yes/No): No\n"
     ]
    }
   ],
   "source": [
    "height = float(input('Please enter your Height here (centimeter): '))\n",
    "weight = int(input('Please enter your Weight here(kg): '))\n",
    "hair = input('Please enter your hair Length here (Bald/Long/Medium/Short): ')\n",
    "beard = input('Do you have beard? (Yes/No): ')\n",
    "scarf = input('Do you have Scarf? (Yes/No): ')\n"
   ]
  },
  {
   "cell_type": "markdown",
   "metadata": {},
   "source": [
    "## Step 9.3 : Convert Input into feature vector"
   ]
  },
  {
   "cell_type": "code",
   "execution_count": 44,
   "metadata": {},
   "outputs": [
    {
     "name": "stdout",
     "output_type": "stream",
     "text": [
      "\n",
      "User input in Actual DataFrame form: \n"
     ]
    },
    {
     "data": {
      "text/html": [
       "<div>\n",
       "<style scoped>\n",
       "    .dataframe tbody tr th:only-of-type {\n",
       "        vertical-align: middle;\n",
       "    }\n",
       "\n",
       "    .dataframe tbody tr th {\n",
       "        vertical-align: top;\n",
       "    }\n",
       "\n",
       "    .dataframe thead th {\n",
       "        text-align: right;\n",
       "    }\n",
       "</style>\n",
       "<table border=\"1\" class=\"dataframe\">\n",
       "  <thead>\n",
       "    <tr style=\"text-align: right;\">\n",
       "      <th></th>\n",
       "      <th>height</th>\n",
       "      <th>weight</th>\n",
       "      <th>hair</th>\n",
       "      <th>beard</th>\n",
       "      <th>scarf</th>\n",
       "    </tr>\n",
       "  </thead>\n",
       "  <tbody>\n",
       "    <tr>\n",
       "      <th>0</th>\n",
       "      <td>170.0</td>\n",
       "      <td>120</td>\n",
       "      <td>Long</td>\n",
       "      <td>No</td>\n",
       "      <td>No</td>\n",
       "    </tr>\n",
       "  </tbody>\n",
       "</table>\n",
       "</div>"
      ],
      "text/plain": [
       "   height  weight  hair beard scarf\n",
       "0   170.0     120  Long    No    No"
      ]
     },
     "execution_count": 44,
     "metadata": {},
     "output_type": "execute_result"
    }
   ],
   "source": [
    "InsertedData = pd.DataFrame({'height': [height], 'weight': [weight], 'hair': [hair], 'beard': [beard], 'scarf': [scarf]})\n",
    "\n",
    "print('\\nUser input in Actual DataFrame form: ')\n",
    "feature_vector = pd.DataFrame(InsertedData)\n",
    "feature_vector"
   ]
  },
  {
   "cell_type": "code",
   "execution_count": 45,
   "metadata": {},
   "outputs": [
    {
     "name": "stdout",
     "output_type": "stream",
     "text": [
      "User input in Encoded DataFame form: \n"
     ]
    },
    {
     "data": {
      "text/html": [
       "<div>\n",
       "<style scoped>\n",
       "    .dataframe tbody tr th:only-of-type {\n",
       "        vertical-align: middle;\n",
       "    }\n",
       "\n",
       "    .dataframe tbody tr th {\n",
       "        vertical-align: top;\n",
       "    }\n",
       "\n",
       "    .dataframe thead th {\n",
       "        text-align: right;\n",
       "    }\n",
       "</style>\n",
       "<table border=\"1\" class=\"dataframe\">\n",
       "  <thead>\n",
       "    <tr style=\"text-align: right;\">\n",
       "      <th></th>\n",
       "      <th>height</th>\n",
       "      <th>weight</th>\n",
       "      <th>hair</th>\n",
       "      <th>beard</th>\n",
       "      <th>scarf</th>\n",
       "    </tr>\n",
       "  </thead>\n",
       "  <tbody>\n",
       "    <tr>\n",
       "      <th>0</th>\n",
       "      <td>170.0</td>\n",
       "      <td>120</td>\n",
       "      <td>1</td>\n",
       "      <td>0</td>\n",
       "      <td>0</td>\n",
       "    </tr>\n",
       "  </tbody>\n",
       "</table>\n",
       "</div>"
      ],
      "text/plain": [
       "   height  weight  hair  beard  scarf\n",
       "0   170.0     120     1      0      0"
      ]
     },
     "execution_count": 45,
     "metadata": {},
     "output_type": "execute_result"
    }
   ],
   "source": [
    "feature_vector['hair'] = enc_hair.transform(feature_vector['hair'])\n",
    "feature_vector['beard'] = enc_beard.transform(feature_vector['beard'])\n",
    "feature_vector['scarf'] = enc_scarf.fit_transform(feature_vector['scarf'])\n",
    "print('User input in Encoded DataFame form: ')\n",
    "feature_vector = pd.DataFrame(InsertedData)\n",
    "feature_vector"
   ]
  },
  {
   "cell_type": "markdown",
   "metadata": {},
   "source": [
    "## Step 9.4 : Apply Trained Model on Feature Vector"
   ]
  },
  {
   "cell_type": "code",
   "execution_count": 46,
   "metadata": {},
   "outputs": [
    {
     "name": "stdout",
     "output_type": "stream",
     "text": [
      "Prediction: Female\n"
     ]
    }
   ],
   "source": [
    "predict = random_forest.predict(feature_vector)\n",
    "print('Prediction: ' + str(enc_gender.inverse_transform(predict)[0]))"
   ]
  }
 ],
 "metadata": {
  "kernelspec": {
   "display_name": "Python 3",
   "language": "python",
   "name": "python3"
  },
  "language_info": {
   "codemirror_mode": {
    "name": "ipython",
    "version": 3
   },
   "file_extension": ".py",
   "mimetype": "text/x-python",
   "name": "python",
   "nbconvert_exporter": "python",
   "pygments_lexer": "ipython3",
   "version": "3.7.0"
  }
 },
 "nbformat": 4,
 "nbformat_minor": 2
}
